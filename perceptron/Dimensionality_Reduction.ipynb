{
 "cells": [
  {
   "cell_type": "markdown",
   "metadata": {},
   "source": [
    "# Principal Componenet Analysis\n",
    "\n",
    "### Disadvantages of High Dimensionality\n",
    "* As dimension increases, number of samples for an estimator increases\n",
    "* Acquiring large data might be infeasible\n",
    "* Learining rom them requires more memory and processing power\n",
    "* Sparseness of data increases\n",
    "* Difficult to detect similar instances\n",
    "\n",
    "### What is PCA?\n",
    "* Technique for finding patterns in high-dimensional data\n",
    "* Used to explore and visualize high dimensional data\n",
    "* User to compress and process data before being used by another estimator\n",
    "* Principal components - reduces a set of:\n",
    "  * Correlated high dimensional variables to uncorrelated synthetic variables\n",
    "  \n",
    "### How Does PCA Reduce Dimensions?\n",
    "* Projects the data onto a lower dimensional subspace\n",
    "* M-dimensional can be reduced by projecting on n-dimensional data (n<m)\n",
    "* Finds a set of vectors to span a subsapce that minimizes the sum of\n",
    "  squared errors of projected data\n",
    "  \n",
    "##### Variance - Average of the squared differences of the values and the mean of the values\n",
    "$s^2 = \\frac{\\sum^n_{i=1}(X_i-\\hat{X})^2}{n-1}$\n",
    "\n",
    "##### Covariance - Measure of how much two variables change together\n",
    "* Measure of strength of a correlation between two sets of variables\n",
    "* Coveriance = 0; variables are uncorrelated  \n",
    "* Coveriance is non-zero, sign indicates negative or positive correlation\n",
    "  * Positive correlation - one increases with the other\n",
    "  * Negative correlation - one increases as other decreases  \n",
    "  \n",
    "$cov(X,Y) = \\frac{\\sum^n_{i=1}(X_i-\\hat{x})(Y_i-\\hat{y})}{n-1}$\n",
    "\n",
    "* A *Covariance Matrix* describes covariance between each pair of dimensions\n",
    "  * (i,j) - covariance of $i^{th}$ and $j^{th}$ dimensions"
   ]
  },
  {
   "cell_type": "code",
   "execution_count": 1,
   "metadata": {},
   "outputs": [
    {
     "name": "stdout",
     "output_type": "stream",
     "text": [
      "[[2.92       3.16       2.95       2.67      ]\n",
      " [3.16       3.43       3.175      2.885     ]\n",
      " [2.95       3.175      3.01       2.705     ]\n",
      " [2.67       2.885      2.705      2.44333333]]\n"
     ]
    }
   ],
   "source": [
    "# Create variance matrix\n",
    "import numpy as np\n",
    "\n",
    "X = np.array([\n",
    "    [2, 0, -1.4],\n",
    "    [2.2, 0.2, -1.5],\n",
    "    [2.4, 0.1, -1],\n",
    "    [1.9, 0, -1.2]\n",
    "])\n",
    "\n",
    "print(np.cov(X).T)"
   ]
  },
  {
   "cell_type": "markdown",
   "metadata": {},
   "source": [
    "# Eigenvectors\n",
    "* Described by direction and magnitude  \n",
    "  $A\\overrightarrow{v} = \\lambda\\overrightarrow{v}$\n",
    "* Direction remains same, magnitude changes\n",
    "* Multiplying matrix by its Eigen vector is equal to scaling the vector\n",
    "\n",
    "#### Eigenvectors and Eigenvalues\n",
    "* Can only be derived from square matrices\n",
    "* Not all square matrices have Eigen vectors\n",
    "* Matrix will have a pair of Eigen vectors and values for each dimension\n",
    "* Principal componenets are eigen vectors of the covariance matrix\n",
    "* Eigen vector with the greatest Eigen value is first prinicipal component\n",
    "  * Eigen vector with second greatest Eigen value is second component\n",
    "  \n",
    "###### Example:\n",
    "$A = \\begin{bmatrix}1 & -2\\\\2 & -3\\end{bmatrix}$  \n",
    "Characteristic equation: $(A - \\lambda I)\\overrightarrow{v} = 0$\n",
    "\n",
    "$|A-\\lambda\\cdot I| = \\left|\\begin{bmatrix}1 & -2\\\\2 & -3\\end{bmatrix}-\n",
    "\\begin{bmatrix}\\lambda & 0\\\\0 & \\lambda\\end{bmatrix}\\right| = 0$\n",
    "\n",
    "$\\left|\\begin{bmatrix}1-\\lambda & -2 \\\\ 2 & -3-\\lambda\\end{bmatrix}\\right|\n",
    "= (\\lambda+1)(\\lambda+1) = 0$\n",
    "\n",
    "**Substitute our value for A int he characteristic equation**  \n",
    "$\\begin{bmatrix}1-\\lambda & -2 \\\\ 2 & -3-\\lambda\\end{bmatrix}\n",
    "\\overrightarrow{v} =\n",
    "\\begin{bmatrix}1-\\lambda & -2 \\\\ 2 & -3-\\lambda\\end{bmatrix}\\cdot\n",
    "\\begin{bmatrix}v_{1,1} \\\\ v_{1,2}\\end{bmatrix} = 0$\n",
    "\n",
    "**Substitute first Eigen value**  \n",
    "$\\begin{bmatrix}1-(-1) & -2 \\\\ 2 & -3-(-1)\\end{bmatrix}\\cdot\n",
    "\\begin{bmatrix}v_{1,1} \\\\ v_{1,2}\\end{bmatrix} =\n",
    "\\begin{bmatrix}2 &-2 \\\\ 2 & -2\\end{bmatrix}\\cdot\n",
    "\\begin{bmatrix}v_{1,1} \\\\ v_{1,2}\\end{bmatrix} = 0$\n",
    "\n",
    "**Rewritten as System of Equations**  \n",
    "$\\begin{equation*}\n",
    "  \\max\n",
    "  \\begin{cases}\n",
    "    \\! % artifact from aligned(at)\n",
    "    \\begin{alignedat}{2}\n",
    "      && 2v_{1,1} +\\ -(2v_{1,2}) = 0;\n",
    "      \\\\\n",
    "      && 2v_{1,1} +\\ -(2v_{1,2}) = 0;\n",
    "    \\end{alignedat}\n",
    "  \\end{cases}\n",
    "\\end{equation*}$\n",
    "\n",
    "**Any non-zero vector that satisfies the equations can be used as an Eigen vector**  \n",
    "$\\begin{bmatrix}1 & -2 \\\\ 2 & -3\\end{bmatrix}\\cdot\n",
    "\\begin{bmatrix}1 \\\\ 1\\end{bmatrix} =\n",
    "-1\\cdot\\begin{bmatrix}1 \\\\ 1\\end{bmatrix} =\n",
    "\\begin{bmatrix}-1 \\\\ -1\\end{bmatrix} =$\n",
    "\n",
    "**PCA requires unit Eigen vectors or Eigen vectors that have length equal to one**  \n",
    "##### Normalising an Eigen Vector By Dividing by its Norm\n",
    "$||x|| = \\sqrt{x^2_1 + x^2_2 + ... + x^2_n}$\n",
    "\n",
    "$\\left|\\left|\\begin{bmatrix}1 \\\\ 1\\end{bmatrix}\\right|\\right| = \n",
    "\\sqrt{1^2 + 1^2} = \\sqrt{2}$\n",
    "\n",
    "$\\begin{bmatrix}1 \\\\ 1\\end{bmatrix}/\\sqrt{2} = \n",
    "\\begin{bmatrix}0.707 \\\\ 0.707\\end{bmatrix} =$"
   ]
  },
  {
   "cell_type": "code",
   "execution_count": 2,
   "metadata": {},
   "outputs": [
    {
     "name": "stdout",
     "output_type": "stream",
     "text": [
      "[-0.99999998 -1.00000002]\n",
      "[[0.70710678 0.70710678]\n",
      " [0.70710678 0.70710678]]\n"
     ]
    }
   ],
   "source": [
    "# Return a tuple of the Eigen values and Eigen vectors\n",
    "import numpy as np\n",
    "w, v = np.linalg.eig(np.array([[1, -2], [2, -3]]))\n",
    "print(w)\n",
    "print(v)"
   ]
  },
  {
   "cell_type": "markdown",
   "metadata": {},
   "source": [
    "# Visualizing High-Dimensional Data with PCA\n",
    "* Used to discover patterns\n",
    "* High dimensional data cannot be represented graphically\n",
    "* We can gain insights by reducing it to two or three components\n",
    "\n",
    "#### IRIS Data Set\n",
    "* Colleted in 1936\n",
    "* Fifty samples from three Iris species\n",
    "  * Iris setosa\n",
    "  * Iris virginica\n",
    "  * Iris versicolor\n",
    "* Explanitory variables - length and width of petals and sepals\n",
    "* Commonly used to test classification models\n",
    "* Inlcuded in Scikit-Learn"
   ]
  },
  {
   "cell_type": "code",
   "execution_count": 3,
   "metadata": {},
   "outputs": [
    {
     "data": {
      "image/png": "[encoded data removed]",
      "text/plain": [
       "<matplotlib.figure.Figure at 0x7f4fea806278>"
      ]
     },
     "metadata": {},
     "output_type": "display_data"
    }
   ],
   "source": [
    "import matplotlib.pyplot as plt\n",
    "from sklearn.decomposition import PCA\n",
    "from sklearn.datasets import load_iris\n",
    "\n",
    "# Load the built-in Iris dataset\n",
    "data = load_iris()\n",
    "\n",
    "# Differentiate target data and labels\n",
    "y = data.target\n",
    "X = data.data\n",
    "\n",
    "# Create an instance of a PCA estimator. Note 2 components as 2 Explan. variables\n",
    "# Returns reduced data matrix with fit_transform\n",
    "pca = PCA(n_components=2)\n",
    "reduced_X = pca.fit_transform(X)\n",
    "\n",
    "# Assemble and plot reduced data\n",
    "red_x, red_y = [], []\n",
    "blue_x, blue_y = [], []\n",
    "green_x, green_y = [], []\n",
    "for i in range(len(reduced_X)):\n",
    "    if y[i] == 0:\n",
    "        red_x.append(reduced_X[i][0])\n",
    "        red_y.append(reduced_X[i][1])\n",
    "    elif y[i] == 1:\n",
    "        blue_x.append(reduced_X[i][0])\n",
    "        blue_y.append(reduced_X[i][1])\n",
    "    else:\n",
    "        green_x.append(reduced_X[i][0])\n",
    "        green_y.append(reduced_X[i][1])\n",
    "plt.scatter(red_x, red_y, c='r', marker='x')\n",
    "plt.scatter(blue_x, blue_y, c='b', marker='D')\n",
    "plt.scatter(green_x, green_y, c='g', marker='.')\n",
    "plt.show()"
   ]
  },
  {
   "cell_type": "markdown",
   "metadata": {},
   "source": [
    "# Face Recognition with PCA\n",
    "Face recognition is the supervised classification task of\n",
    "identifiying a person from an image of his or her face\n",
    "\n",
    "#### The database of faces\n",
    "* From [AT&T Laboratories Cambridge](https://www.cl.cam.ac.uk/research/dtg/attarchive/facedatabase.html)\n",
    "* Tem images of 40 people in differnt lighting conditions with different expressions\n",
    "* Images are in greyscale"
   ]
  },
  {
   "cell_type": "code",
   "execution_count": 4,
   "metadata": {},
   "outputs": [
    {
     "name": "stderr",
     "output_type": "stream",
     "text": [
      "/home/will/anaconda3/lib/python3.6/site-packages/sklearn/cross_validation.py:41: DeprecationWarning: This module was deprecated in version 0.18 in favor of the model_selection module into which all the refactored classes and functions are moved. Also note that the interface of the new CV iterators are different from that of this module. This module will be removed in 0.20.\n",
      "  \"This module will be removed in 0.20.\", DeprecationWarning)\n"
     ]
    }
   ],
   "source": [
    "import os\n",
    "import numpy as np\n",
    "from sklearn.cross_validation import train_test_split\n",
    "from sklearn.cross_validation import cross_val_score\n",
    "from sklearn.preprocessing import scale\n",
    "from sklearn.decomposition import PCA\n",
    "from sklearn.linear_model import LogisticRegression\n",
    "from sklearn.metrics import classification_report\n",
    "from PIL import Image\n",
    "\n",
    "X = []\n",
    "y = []\n",
    "\n",
    "# Load images into numpy arrays and reshape pixels into vectors\n",
    "for dirpath, _, filenames in os.walk('att_faces'):\n",
    "    for filename in filenames:\n",
    "        if filename[-3:] == 'pgm':\n",
    "            img = Image.open(os.path.join(dirpath, filename)).convert('L')\n",
    "            arr = np.array(img).reshape(10304).astype('float32') / 255\n",
    "            X.append(arr)\n",
    "            y.append(dirpath)\n",
    "\n",
    "# Standardize the data\n",
    "X = scale(X)"
   ]
  },
  {
   "cell_type": "code",
   "execution_count": 5,
   "metadata": {
    "collapsed": true
   },
   "outputs": [],
   "source": [
    "# Randomly split data into training and test sets\n",
    "# Reduce all the instances to 150 dimentions\n",
    "X_train, X_test, y_train, y_test = train_test_split(X, y)\n",
    "pca = PCA(n_components=150)"
   ]
  },
  {
   "cell_type": "code",
   "execution_count": 6,
   "metadata": {},
   "outputs": [
    {
     "name": "stdout",
     "output_type": "stream",
     "text": [
      "(300, 10304)\n",
      "(300, 150)\n",
      "Cross validation accuracy: 0.788952588952589\n",
      "               precision    recall  f1-score   support\n",
      "\n",
      " att_faces/s1       1.00      0.67      0.80         3\n",
      "att_faces/s10       0.50      1.00      0.67         1\n",
      "att_faces/s11       1.00      1.00      1.00         4\n",
      "att_faces/s12       1.00      1.00      1.00         1\n",
      "att_faces/s13       0.50      1.00      0.67         1\n",
      "att_faces/s14       1.00      0.75      0.86         4\n",
      "att_faces/s15       1.00      1.00      1.00         2\n",
      "att_faces/s16       0.67      1.00      0.80         2\n",
      "att_faces/s17       1.00      1.00      1.00         3\n",
      "att_faces/s18       1.00      1.00      1.00         3\n",
      "att_faces/s19       0.50      1.00      0.67         1\n",
      " att_faces/s2       1.00      1.00      1.00         4\n",
      "att_faces/s20       1.00      1.00      1.00         2\n",
      "att_faces/s21       1.00      1.00      1.00         1\n",
      "att_faces/s22       1.00      1.00      1.00         1\n",
      "att_faces/s23       1.00      1.00      1.00         2\n",
      "att_faces/s24       1.00      1.00      1.00         3\n",
      "att_faces/s25       1.00      1.00      1.00         4\n",
      "att_faces/s26       1.00      1.00      1.00         1\n",
      "att_faces/s27       1.00      1.00      1.00         4\n",
      "att_faces/s28       1.00      0.50      0.67         4\n",
      "att_faces/s29       1.00      1.00      1.00         3\n",
      " att_faces/s3       1.00      1.00      1.00         1\n",
      "att_faces/s30       1.00      1.00      1.00         2\n",
      "att_faces/s31       1.00      1.00      1.00         6\n",
      "att_faces/s32       1.00      1.00      1.00         2\n",
      "att_faces/s33       1.00      0.67      0.80         3\n",
      "att_faces/s34       0.33      1.00      0.50         1\n",
      "att_faces/s35       1.00      1.00      1.00         2\n",
      "att_faces/s36       1.00      1.00      1.00         1\n",
      "att_faces/s37       1.00      1.00      1.00         4\n",
      "att_faces/s38       1.00      1.00      1.00         4\n",
      "att_faces/s39       1.00      0.80      0.89         5\n",
      " att_faces/s4       1.00      1.00      1.00         3\n",
      "att_faces/s40       0.00      0.00      0.00         1\n",
      " att_faces/s5       1.00      1.00      1.00         2\n",
      " att_faces/s6       1.00      1.00      1.00         3\n",
      " att_faces/s7       1.00      1.00      1.00         3\n",
      " att_faces/s8       0.00      0.00      0.00         0\n",
      " att_faces/s9       1.00      1.00      1.00         3\n",
      "\n",
      "  avg / total       0.96      0.93      0.93       100\n",
      "\n"
     ]
    },
    {
     "name": "stderr",
     "output_type": "stream",
     "text": [
      "/home/will/anaconda3/lib/python3.6/site-packages/sklearn/metrics/classification.py:1135: UndefinedMetricWarning: Precision and F-score are ill-defined and being set to 0.0 in labels with no predicted samples.\n",
      "  'precision', 'predicted', average, warn_for)\n",
      "/home/will/anaconda3/lib/python3.6/site-packages/sklearn/metrics/classification.py:1137: UndefinedMetricWarning: Recall and F-score are ill-defined and being set to 0.0 in labels with no true samples.\n",
      "  'recall', 'true', average, warn_for)\n"
     ]
    }
   ],
   "source": [
    "# Train the logistic regressor\n",
    "# Scikit-Learn automatically creates binary classifiers\n",
    "# using the one-vs-all strategy.\n",
    "\n",
    "X_train_reduced = pca.fit_transform(X_train)\n",
    "X_test_reduced = pca.transform(X_test)\n",
    "print(X_train.shape)\n",
    "print(X_train_reduced.shape)\n",
    "\n",
    "# Evaluate the performance of the classifier\n",
    "classifier = LogisticRegression()\n",
    "accuracies = cross_val_score(classifier, X_train_reduced, y_train)\n",
    "print('Cross validation accuracy: %s' % np.mean(accuracies))\n",
    "classifier.fit(X_train_reduced, y_train)\n",
    "predictions = classifier.predict(X_test_reduced)\n",
    "print(classification_report(y_test, predictions))"
   ]
  },
  {
   "cell_type": "code",
   "execution_count": null,
   "metadata": {
    "collapsed": true
   },
   "outputs": [],
   "source": []
  }
 ],
 "metadata": {
  "kernelspec": {
   "display_name": "Python 3",
   "language": "python",
   "name": "python3"
  },
  "language_info": {
   "codemirror_mode": {
    "name": "ipython",
    "version": 3
   },
   "file_extension": ".py",
   "mimetype": "text/x-python",
   "name": "python",
   "nbconvert_exporter": "python",
   "pygments_lexer": "ipython3",
   "version": "3.6.2"
  }
 },
 "nbformat": 4,
 "nbformat_minor": 2
}
