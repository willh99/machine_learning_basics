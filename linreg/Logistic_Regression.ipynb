{
 "cells": [
  {
   "cell_type": "markdown",
   "metadata": {},
   "source": [
    "# Logistic Regression\n",
    "\n",
    "*Ordinary Linear Regression assumes that the response variable is normally distributed. Normal, or Gaussian, distribution describes the probability of an observation having a value between any two real numbers. Normally distributed data is symmetrical. Half of the valus are greater than the mean and half are less.  Mean = Median = Mode. Linear regression assumes that a constant change in a feaure causes change in the response variable.*\n",
    "\n",
    "*Logistic regression is a form of binary classification in which an element an be put into one of two groups and is thus classified into the group to which it most closely belongs.*\n",
    "\n",
    "In logistic regression:\n",
    "- Response variable describes prbability that outcome is positive\n",
    "- If response variable >= discrimination threshold then positive class\n",
    "- Else, negative class\n",
    "- Fuction of the linear combination of features using logistic function\n",
    "    \n",
    "* Logistic Function: $F(t) = \\frac{1}{( 1 + e^{-t} )}$\n",
    "* Logistic Regression: $F(x) = \\frac{1}{1 + e^{-\\beta_0 + \\beta_x}}$\n",
    "* Logic Function (Inverse of Logistic Function):\n",
    "$g(x) = \\ln{ \\frac{F(x)}{1-F(x)} } = \\beta_0 + \\beta_x$\n",
    "        \n",
    "Example: Spam Filtering using the SMS spam collection dataset from the UCI\n",
    "         machine learning respository\n",
    "'''"
   ]
  },
  {
   "cell_type": "code",
   "execution_count": 24,
   "metadata": {},
   "outputs": [
    {
     "name": "stdout",
     "output_type": "stream",
     "text": [
      "      0                                                  1\n",
      "0   ham  Go until jurong point, crazy.. Available only ...\n",
      "1   ham                      Ok lar... Joking wif u oni...\n",
      "2  spam  Free entry in 2 a wkly comp to win FA Cup fina...\n",
      "3   ham  U dun say so early hor... U c already then say...\n",
      "4   ham  Nah I don't think he goes to usf, he lives aro...\n"
     ]
    }
   ],
   "source": [
    "import pandas as pd\n",
    "df = pd.read_csv('./SMSSpamCollection', delimiter='\\t', header=None)\n",
    "print(df.head())"
   ]
  },
  {
   "cell_type": "code",
   "execution_count": 2,
   "metadata": {},
   "outputs": [
    {
     "name": "stdout",
     "output_type": "stream",
     "text": [
      "Number of span messages: 747\n",
      "Number of ham messages: 4825\n"
     ]
    }
   ],
   "source": [
    "print('Number of span messages: %s' % df[df[0] == 'spam'][0].count())\n",
    "print('Number of ham messages: %s' % df[df[0] == 'ham'][0].count())"
   ]
  },
  {
   "cell_type": "code",
   "execution_count": 12,
   "metadata": {
    "scrolled": false
   },
   "outputs": [
    {
     "name": "stdout",
     "output_type": "stream",
     "text": [
      "Predicted: ham message: The whole car appreciated the last two! Dad and are having a map reading semi argument but apart from that things are going ok. P.\n",
      "Predicted: ham message: At WHAT TIME should i come tomorrow\n",
      "Predicted: ham message: I will lick up every drop :) are you ready to use your mouth as well?\n",
      "Predicted: ham message: What i mean is do they come chase you out when its over or is it stated you can watch as many movies as you want.\n",
      "Predicted: spam message: December only! Had your mobile 11mths+? You are entitled to update to the latest colour camera mobile for Free! Call The Mobile Update Co FREE on 08002986906 \n"
     ]
    }
   ],
   "source": [
    "import numpy as np\n",
    "import pandas as pd\n",
    "from sklearn.feature_extraction.text import TfidfVectorizer\n",
    "from sklearn.linear_model.logistic import LogisticRegression\n",
    "from sklearn.model_selection import train_test_split, cross_val_score\n",
    "\n",
    "import warnings\n",
    "warnings.filterwarnings(\"ignore\", message=\"numpy.dtype size changed\")\n",
    "warnings.filterwarnings(\"ignore\", message=\"numpy.ufunc size changed\")\n",
    "\n",
    "# Split data into training and test sets\n",
    "# By default, train_test_split assigns 75% of data to the training set and the remaining 25% to the test set\n",
    "X = df[1].values\n",
    "y = df[0].values\n",
    "X_train_raw, X_test_raw, y_train, y_test = train_test_split(X, y)\n",
    "\n",
    "# Create TfidfVectorizer and fit it with voth the training and test messages\n",
    "vectorizer = TfidfVectorizer()\n",
    "X_train = vectorizer.fit_transform(X_train_raw)\n",
    "X_test = vectorizer.transform(X_test_raw)\n",
    "\n",
    "# Create an instance of LogisticRegression and train the model using .fit (same as LinearRegression)\n",
    "classifier = LogisticRegression()\n",
    "classifier.fit(X_train, y_train)\n",
    "predictions = classifier.predict(X_test)\n",
    "for i, prediction in enumerate(predictions[:5]):\n",
    "    print('Predicted: %s message: %s' % (prediction, X_test_raw[i]))"
   ]
  },
  {
   "cell_type": "markdown",
   "metadata": {
    "collapsed": true
   },
   "source": [
    "# Binary Classification Performance Metrics\n",
    "\n",
    "### Some common performance metrics are:\n",
    "* Accuracy\n",
    "* Precision\n",
    "* Recall\n",
    "* F1 Measure\n",
    "* ROC AUC Score\n",
    "\n",
    "All of these metrics depend on the concepts of True-Positives, True-Negatives, False-Positives, and False-Negatives.\n",
    "In this case the positives and negatives are based on the correct prediction of Spam vs Ham messages. A confusion\n",
    "matrix/contigency table can be used to visualized true and false negatives/positives:\n",
    "* Rows - true classes\n",
    "* Colums - predicted classes"
   ]
  },
  {
   "cell_type": "code",
   "execution_count": 13,
   "metadata": {},
   "outputs": [
    {
     "name": "stdout",
     "output_type": "stream",
     "text": [
      "[[4 1]\n",
      " [2 3]]\n"
     ]
    },
    {
     "data": {
      "image/png": "[encoded data removed]",
      "text/plain": [
       "<matplotlib.figure.Figure at 0x7f97ca86deb8>"
      ]
     },
     "metadata": {},
     "output_type": "display_data"
    }
   ],
   "source": [
    "# Binary classification performance metrics\n",
    "from sklearn.metrics import confusion_matrix\n",
    "import matplotlib.pyplot as plt\n",
    "\n",
    "y_test = [0,0,0,0,0,1,1,1,1,1]\n",
    "y_pred = [0,1,0,0,0,0,0,1,1,1]\n",
    "confusion_matrix = confusion_matrix(y_test, y_pred)\n",
    "print(confusion_matrix)\n",
    "plt.matshow(confusion_matrix)\n",
    "plt.title('Confusion matrix')\n",
    "plt.colorbar()\n",
    "plt.ylabel('True label')\n",
    "plt.xlabel('Predicted label')\n",
    "plt.show()\n",
    "\n",
    "# Shows 4 true negative predictions, 3 true positive predictions,\n",
    "# 2 false negative predictions, and 1 false positive prediction"
   ]
  },
  {
   "cell_type": "code",
   "execution_count": 16,
   "metadata": {},
   "outputs": [
    {
     "name": "stdout",
     "output_type": "stream",
     "text": [
      "Accuracies: [0.95221027 0.95454545 0.96172249 0.96052632 0.95209581]\n",
      "Mean accuracy: 0.9562200683094717\n"
     ]
    }
   ],
   "source": [
    "# Accuracy\n",
    "import numpy as np\n",
    "import pandas as pd\n",
    "from sklearn.feature_extraction.text import TfidfVectorizer\n",
    "from sklearn.linear_model.logistic import LogisticRegression\n",
    "from sklearn.model_selection import train_test_split, cross_val_score\n",
    "from sklearn.metrics import roc_curve, auc\n",
    "import matplotlib.pyplot as plt\n",
    "\n",
    "df = pd.read_csv('./sms.csv')\n",
    "X_train_raw, X_test_raw, y_train, y_test = train_test_split(df['message'], df['label'], random_state=11)\n",
    "vectorizer = TfidfVectorizer()\n",
    "X_train = vectorizer.fit_transform(X_train_raw)\n",
    "X_test = vectorizer.transform(X_test_raw)\n",
    "classifier = LogisticRegression()\n",
    "classifier.fit(X_train, y_train)\n",
    "scores = cross_val_score(classifier, X_train, y_train, cv=5)\n",
    "print('Accuracies: %s' % scores)\n",
    "print('Mean accuracy: %s' % np.mean(scores))"
   ]
  },
  {
   "cell_type": "markdown",
   "metadata": {},
   "source": [
    "### Shortcomings of accuracy\n",
    "* Does not distinguish between false positives and negatives\n",
    "* Not an informative metric if proportions are skewed\n",
    "* Solution - precision and recall\n",
    "\n",
    "**Precision** - *fraction of messages classified as spam that are actually spam*  \n",
    "**Recall** - *fraction of truly positive instances that classifier recognized*\n",
    "(Recall = 1, classifier did not make false negative predictions)"
   ]
  },
  {
   "cell_type": "code",
   "execution_count": 21,
   "metadata": {},
   "outputs": [
    {
     "name": "stdout",
     "output_type": "stream",
     "text": [
      "Precision: 0.992542742398164\n",
      "Recall: 0.6836050302748021\n"
     ]
    }
   ],
   "source": [
    "# Precision and recall for the above SMS classifier\n",
    "precisions = cross_val_score(classifier, X_train, y_train, cv=5, scoring='precision')\n",
    "print('Precision: %s' % np.mean(precisions))\n",
    "recalls = cross_val_score(classifier, X_train, y_train, cv=5, scoring='recall')\n",
    "print('Recall: %s' % np.mean(recalls))"
   ]
  },
  {
   "cell_type": "markdown",
   "metadata": {},
   "source": [
    "## F1 Measure\n",
    "* The harmonic mean of precision and recall scores\n",
    "* Penalizes classifiers with imbalanced precision and recall scores\n",
    "* Perfect precision and recall scores -> F1 score = 1\n",
    "* Perfect precision and recall score = 0 -> F1 score = 0\n",
    "\n",
    "Permutations of the F1-score include the F0.5-score and the F2-score which bias\n",
    "precision over recall and recall over precision respectively"
   ]
  },
  {
   "cell_type": "code",
   "execution_count": 23,
   "metadata": {},
   "outputs": [
    {
     "name": "stdout",
     "output_type": "stream",
     "text": [
      "F1 score: 0.8090678466269784\n"
     ]
    }
   ],
   "source": [
    "# F1-Score of SMS classifier\n",
    "f1s = cross_val_score(classifier, X_train, y_train, cv=5, scoring='f1')\n",
    "print('F1 score: %s' % np.mean(f1s))"
   ]
  },
  {
   "cell_type": "markdown",
   "metadata": {},
   "source": [
    "## ROC AUC Score\n",
    "* ROC (Reciver Operating Characteristic) visualizes classifier's performance\n",
    "* Plot the classifier's recall against fall-out\n",
    "* Fall out is the number of false positives divded by the total number of negatives\n",
    "* AUC is the area under the ROC curve\n",
    "\n",
    "$F = \\frac{FP}{TN + FP}$"
   ]
  },
  {
   "cell_type": "code",
   "execution_count": 25,
   "metadata": {},
   "outputs": [
    {
     "data": {
      "image/png": "[encoded data removed]",
      "text/plain": [
       "<matplotlib.figure.Figure at 0x7f97ca90d748>"
      ]
     },
     "metadata": {},
     "output_type": "display_data"
    }
   ],
   "source": [
    "predictions = classifier.predict_proba(X_test)\n",
    "false_positive_rate, recall, thresholds = roc_curve(y_test, predictions[:, 1])\n",
    "roc_auc = auc(false_positive_rate, recall)\n",
    "\n",
    "plt.title('Receiver Operating Characteristic')\n",
    "plt.plot(false_positive_rate, recall, 'b', label='AUC = %0.2f' % roc_auc)\n",
    "plt.legend(loc='lower right')\n",
    "plt.plot([0, 1], [0, 1], 'r--')\n",
    "plt.xlim([0.0, 1.0])\n",
    "plt.ylim([0.0, 1.0])\n",
    "plt.xlabel('Recall')\n",
    "plt.ylabel('Fall-out')\n",
    "plt.show()\n",
    "\n",
    "# Given an AUC of 0.98 (most of the area is under the curve) the ROC out performs random guessing"
   ]
  },
  {
   "cell_type": "code",
   "execution_count": null,
   "metadata": {
    "collapsed": true
   },
   "outputs": [],
   "source": []
  }
 ],
 "metadata": {
  "kernelspec": {
   "display_name": "Python 3",
   "language": "python",
   "name": "python3"
  },
  "language_info": {
   "codemirror_mode": {
    "name": "ipython",
    "version": 3
   },
   "file_extension": ".py",
   "mimetype": "text/x-python",
   "name": "python",
   "nbconvert_exporter": "python",
   "pygments_lexer": "ipython3",
   "version": "3.6.2"
  }
 },
 "nbformat": 4,
 "nbformat_minor": 2
}
