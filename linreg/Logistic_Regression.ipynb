{
 "cells": [
  {
   "cell_type": "markdown",
   "metadata": {},
   "source": [
    "# Logistic Regression\n",
    "\n",
    "*Ordinary Linear Regression assumes that the response variable is normally distributed. Normal, or Gaussian, distribution describes the probability of an observation having a value between any two real number. Normally distributed data is symmetrical. Half of the valus are greater than the mean and half are less.  Mean = Median = Mode. Linear regression assumes that a constant change in a feaure causes change in the response variable.*\n",
    "\n",
    "*Logistic regression is a form of binary classification in which an element an be put into one of two groups and is thus classified into the group to which it most closely belongs.*\n",
    "\n",
    "In logistic regression:\n",
    "- Response variable describes prbability that outcome is positive\n",
    "- If response variable >= discrimination threshold then positive class\n",
    "- Else, negative class\n",
    "- Fuction of the linear combination of features using logistic function\n",
    "    \n",
    "* Logistic Function: $F(t) = \\frac{1}{( 1 + e^{-t} )}$\n",
    "* Logistic Regression: $F(x) = \\frac{1}{1 + e^{-\\beta_0 + \\beta_x}}$\n",
    "* Logic Function (Inverse of Logistic Function):\n",
    "$g(x) = \\ln{ \\frac{F(x)}{1-F(x)} } = \\beta_0 + \\beta_x$\n",
    "        \n",
    "Example: Spam Filtering using the SMS spam collection dataset from the UCI\n",
    "         machine learning respository\n",
    "'''"
   ]
  },
  {
   "cell_type": "code",
   "execution_count": 1,
   "metadata": {},
   "outputs": [
    {
     "name": "stdout",
     "output_type": "stream",
     "text": [
      "      0                                                  1\n",
      "0   ham  Go until jurong point, crazy.. Available only ...\n",
      "1   ham                      Ok lar... Joking wif u oni...\n",
      "2  spam  Free entry in 2 a wkly comp to win FA Cup fina...\n",
      "3   ham  U dun say so early hor... U c already then say...\n",
      "4   ham  Nah I don't think he goes to usf, he lives aro...\n"
     ]
    }
   ],
   "source": [
    "import pandas as pd\n",
    "df = pd.read_csv('./SMSSpamCollection', delimiter='\\t', header=None)\n",
    "print(df.head())"
   ]
  },
  {
   "cell_type": "code",
   "execution_count": 2,
   "metadata": {},
   "outputs": [
    {
     "name": "stdout",
     "output_type": "stream",
     "text": [
      "Number of span messages: 747\n",
      "Number of ham messages: 4825\n"
     ]
    }
   ],
   "source": [
    "print('Number of span messages: %s' % df[df[0] == 'spam'][0].count())\n",
    "print('Number of ham messages: %s' % df[df[0] == 'ham'][0].count())"
   ]
  },
  {
   "cell_type": "code",
   "execution_count": null,
   "metadata": {
    "collapsed": true
   },
   "outputs": [],
   "source": []
  }
 ],
 "metadata": {
  "kernelspec": {
   "display_name": "Python 3",
   "language": "python",
   "name": "python3"
  },
  "language_info": {
   "codemirror_mode": {
    "name": "ipython",
    "version": 3
   },
   "file_extension": ".py",
   "mimetype": "text/x-python",
   "name": "python",
   "nbconvert_exporter": "python",
   "pygments_lexer": "ipython3",
   "version": "3.6.2"
  }
 },
 "nbformat": 4,
 "nbformat_minor": 2
}
