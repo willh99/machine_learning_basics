{
 "cells": [
  {
   "cell_type": "markdown",
   "metadata": {},
   "source": [
    "# Bagging (Bootstrap Aggregating)\n",
    "\n",
    "* **Bagging** is an ensemble meta-algorithm that reduces variance in an estimator\n",
    "* It can be used in classification and regression  classification tasks\n",
    "  * When components are **regressors**, the ensemble averages their predictions\n",
    "  * When components are **classifiers**, the ensemble returns the mode class\n",
    "* Independently fits multiple models on variants of training data\n",
    "* Training data variants are created using a technique called bootstrap resampling\n",
    "\n",
    "##### Bootstrap Resampling\n",
    "* A method of estimating the uncertainty in a statistic\n",
    "* Bootstrap resampling can only be used if observations in the sample are drawn independently\n",
    "* Produces multiple variants by resampling repeatedly from the original sample\n",
    "* Variant samples will have same number of observations as original sample\n",
    "* Statistics can be computed for each variant\n",
    "* Statistics can be used to estimate uncertainty by:\n",
    "  * Creating a confidence interval\n",
    "  * Calculating the standard error\n",
    "  \n",
    "Bagging is particularly useful for estimators that have high variance and low bias - decision trees  \n",
    "Bagged decision trees are used often and successfully called random forests"
   ]
  },
  {
   "cell_type": "code",
   "execution_count": 1,
   "metadata": {},
   "outputs": [
    {
     "name": "stdout",
     "output_type": "stream",
     "text": [
      "Original sample: [88 14 95 58 17 80 25 35 43 46]\n",
      "Sample mean: 50.1\n",
      "Number of bootstrap re-samples: 100\n",
      "Example re-sample: [43 46 58 14 43 88 58 88 25 88]\n",
      "Mean of re-samples' means: 50.87700000000001\n"
     ]
    }
   ],
   "source": [
    "import numpy as np\n",
    "\n",
    "# Sample 10 integers\n",
    "sample = np.random.randint(low=1, high=100, size=10)\n",
    "print('Original sample: %s' % sample)\n",
    "print('Sample mean: %s' % sample.mean())\n",
    "\n",
    "# Bootstrap re-sample 100 times by re-sampling with replacement from original sample\n",
    "resamples = [np.random.choice(sample, size=sample.shape) for i in range(100)]\n",
    "print('Number of bootstrap re-samples: %s' % len(resamples))\n",
    "print('Example re-sample: %s' % resamples[0])\n",
    "\n",
    "resample_means = np.array([resample.mean() for resample in resamples])\n",
    "print('Mean of re-samples\\' means: %s' % resample_means.mean())"
   ]
  },
  {
   "cell_type": "markdown",
   "metadata": {},
   "source": [
    "### Random Forest\n",
    "* The implementation of bagging on decision trees\n",
    "* Number of trees is an important hyperparameter\n",
    "* Increasing number of trees increases the model's preformance and computational complexity\n",
    "* Algorithm selects the best from random features at each node"
   ]
  },
  {
   "cell_type": "code",
   "execution_count": 3,
   "metadata": {},
   "outputs": [
    {
     "name": "stdout",
     "output_type": "stream",
     "text": [
      "             precision    recall  f1-score   support\n",
      "\n",
      "          0       0.73      0.66      0.69       127\n",
      "          1       0.68      0.75      0.71       123\n",
      "\n",
      "avg / total       0.71      0.70      0.70       250\n",
      "\n"
     ]
    }
   ],
   "source": [
    "# Training a Random Forest with Scikit-Learn\n",
    "from sklearn.tree import DecisionTreeClassifier\n",
    "from sklearn.ensemble import RandomForestClassifier\n",
    "from sklearn.datasets import make_classification\n",
    "from sklearn.model_selection import train_test_split\n",
    "from sklearn.metrics import classification_report\n",
    "\n",
    "# Create artificial classification set and split the test data\n",
    "# Dataset has 1000 instances with 100 features of which 20 are informative\n",
    "#     while the rest are redundent combinations of information features or noise.\n",
    "X, y = make_classification(\n",
    "    n_samples=1000, n_features=100, n_informative=20, n_clusters_per_class=2, random_state=11)\n",
    "X_train, X_test, y_train, y_test = train_test_split(X, y, random_state=11)\n",
    "\n",
    "# Train and evaluate a single decision tree\n",
    "clf = DecisionTreeClassifier(random_state=11)\n",
    "clf.fit(X_train, y_train)\n",
    "predictions = clf.predict(X_test)\n",
    "print(classification_report(y_test, predictions))"
   ]
  },
  {
   "cell_type": "code",
   "execution_count": 5,
   "metadata": {},
   "outputs": [
    {
     "name": "stdout",
     "output_type": "stream",
     "text": [
      "             precision    recall  f1-score   support\n",
      "\n",
      "          0       0.74      0.83      0.79       127\n",
      "          1       0.80      0.70      0.75       123\n",
      "\n",
      "avg / total       0.77      0.77      0.77       250\n",
      "\n"
     ]
    }
   ],
   "source": [
    "# Now train and evaluate on a random forest with 10 trees\n",
    "clf = RandomForestClassifier(n_estimators=10, random_state=11)\n",
    "clf.fit(X_train, y_train)\n",
    "predictions = clf.predict(X_test)\n",
    "print(classification_report(y_test, predictions))"
   ]
  },
  {
   "cell_type": "markdown",
   "metadata": {},
   "source": [
    "# Boosting\n",
    "**Boosting** is a family of ensemble methods used to reduce the bias of an estimator. \n",
    "It can be used in classification and regression tasks. It works by creating ensembles \n",
    "of homogenous estimators.  One of the most popular boosting algorithms is AdaBoost.\n",
    "\n",
    "#### AdaBoost\n",
    "__AdaBoost__ assigns equal weights to all training instances and then trains a weak learner.\n",
    "A __*weak learner*__ is an estimator that performs only slightly better than random chance, \n",
    "such as a decision tree with one or only a small number of nodes. Weak learners are not\n",
    "necessarily simple models. __*Strong learners*__ are call such as they are arbitrarily better \n",
    "than weak learners. Any base estimator can be used as a weak learner.\n",
    "* Subsequent iterations:\n",
    "  * Increases weights of training instances that were predicted incorrectly\n",
    "  * Decreases weights of training instances that were predicted correctly\n",
    "  * Trains another weak learner on the re-weighted instances\n",
    "* AdaBoost focuses on instances that the ensemble predicts incorrectly\n",
    "* The algorithm terminates when:\n",
    "  * It achieves perfect performance\n",
    "  * After a specified number of iterations\n",
    "* Scikit-Learn supported Boosting meta-estimators\n",
    "  * AdaBoostClassifier\n",
    "  * AdaBoostRegressor\n",
    "  * GradientBoostingClassifier\n",
    "  * GradientBoostingRegressor"
   ]
  },
  {
   "cell_type": "code",
   "execution_count": 7,
   "metadata": {},
   "outputs": [
    {
     "name": "stdout",
     "output_type": "stream",
     "text": [
      "Decision tree accuracy: 0.704\n"
     ]
    }
   ],
   "source": [
    "from sklearn.ensemble import AdaBoostClassifier\n",
    "from sklearn.tree import DecisionTreeClassifier\n",
    "from sklearn.datasets import make_classification\n",
    "from sklearn.model_selection import train_test_split\n",
    "import matplotlib.pyplot as plt\n",
    "\n",
    "# Create artificial classification set and split the test data\n",
    "# Dataset has 1000 instances with 100 features of which 20 are informative\n",
    "#     while the rest are redundent combinations of information features or noise.\n",
    "X, y = make_classification(\n",
    "    n_samples=1000, n_features=100, n_informative=20, n_clusters_per_class=2, random_state=11)\n",
    "X_train, X_test, y_train, y_test = train_test_split(X, y, random_state=11)\n",
    "\n",
    "clf = DecisionTreeClassifier(random_state=11)\n",
    "clf.fit(X_train, y_train)\n",
    "print('Decision tree accuracy: %s' % clf.score(X_test, y_test))"
   ]
  },
  {
   "cell_type": "code",
   "execution_count": 8,
   "metadata": {},
   "outputs": [
    {
     "name": "stdout",
     "output_type": "stream",
     "text": [
      "Ensemble accuracy: 0.796\n"
     ]
    },
    {
     "data": {
      "image/png": "[encoded data removed]",
      "text/plain": [
       "<matplotlib.figure.Figure at 0x7fe7049342b0>"
      ]
     },
     "metadata": {},
     "output_type": "display_data"
    }
   ],
   "source": [
    "# When an argument for the base_estimator parameter is not passed,\n",
    "# the default DecisionTreeClassifier is used\n",
    "\n",
    "# Train AdaBoost Classifier for an artificial dataset\n",
    "clf = AdaBoostClassifier(n_estimators=50, random_state=11)\n",
    "clf.fit(X_train, y_train)\n",
    "print('Ensemble accuracy: %s' % clf.score(X_test, y_test))\n",
    "plt.title('Ensemble Accuracy')\n",
    "plt.ylabel('Accuracy')\n",
    "plt.xlabel('Number of base estimators in ensemble')\n",
    "plt.plot(range(1,51), [accuracy for accuracy in clf.staged_score(X_test, y_test)])\n",
    "plt.show()"
   ]
  },
  {
   "cell_type": "markdown",
   "metadata": {
    "collapsed": true
   },
   "source": [
    "# Stacking\n",
    "\n",
    "__*Stacking*__ is an approach to creating ensembles that uses a meta-estimator\n",
    "to combine the predictions of base estimators(sometimes call blending).\n",
    "This addes another problem that the meta-estimator must be trained use the \n",
    "predictions of the base-estimators to predict the value of the response varibale.\n",
    "\n",
    "Stacking, unlike bagging and boosting, can use different type of base-estimators.\n",
    "For example, a random forest can be combined with a logistic regression classifier.\n",
    "Scikit-Learn does not provide a meta-estimator class, but the BaseEstimator can be\n",
    "extended to include the required functionality."
   ]
  },
  {
   "cell_type": "code",
   "execution_count": 2,
   "metadata": {
    "collapsed": true
   },
   "outputs": [],
   "source": [
    "import numpy as np\n",
    "from sklearn.model_selection import train_test_split\n",
    "from sklearn.neighbors import KNeighborsClassifier\n",
    "from sklearn.tree import DecisionTreeClassifier\n",
    "from sklearn.linear_model import LogisticRegression\n",
    "from sklearn.datasets import make_classification\n",
    "from sklearn.base import clone, BaseEstimator, TransformerMixin, ClassifierMixin\n",
    "\n",
    "class StackingClassifier(BaseEstimator, ClassifierMixin, TransformerMixin):\n",
    "    \n",
    "    def __init__(self, classifiers):\n",
    "        self.classifiers = classifiers\n",
    "        self.meta_classifier = DecisionTreeClassifier()\n",
    "        \n",
    "    def fit(self, X, y):\n",
    "        for clf in self.classifiers:\n",
    "            clf.fit(X, y)\n",
    "        \n",
    "        self.meta_classifier.fit(self._get_meta_features(X), y)\n",
    "        return self\n",
    "    \n",
    "    def _get_meta_features(self, X):\n",
    "        probas = np.asarray([clf.predict_proba(X) for clf in self.classifiers])\n",
    "        return np.concatenate(probas, axis=1)\n",
    "    \n",
    "    def predict(self, X):\n",
    "        return self.meta_classifier.predict(self._get_meta_features(X))\n",
    "    \n",
    "    def predict_proba(self, X):\n",
    "        return self.meta_classifier.predict_proba(self._get_meta_features(X))\n",
    "\n",
    "# Create artificial classification set and split the test data\n",
    "# Dataset has 1000 instances with 50 features of which 30 are informative\n",
    "#     while the rest are redundent combinations of information features or noise.\n",
    "X, y = make_classification(\n",
    "    n_samples=1000, n_features=50, n_informative=30, n_clusters_per_class=3, random_state=11)\n",
    "X_train, X_test, y_train, y_test = train_test_split(X, y, random_state=11)"
   ]
  },
  {
   "cell_type": "code",
   "execution_count": 4,
   "metadata": {},
   "outputs": [
    {
     "name": "stdout",
     "output_type": "stream",
     "text": [
      "Logistic regression accuracy: 0.816:\n",
      "KNN accuracy: 0.836\n"
     ]
    }
   ],
   "source": [
    "# Train and evaluate the individual base estimators (Linear Regression and KNN)\n",
    "lr = LogisticRegression()\n",
    "lr.fit(X_train, y_train)\n",
    "print('Logistic regression accuracy: %s:' % lr.score(X_test, y_test))\n",
    "\n",
    "knn_clf = KNeighborsClassifier()\n",
    "knn_clf.fit(X_train, y_train)\n",
    "print('KNN accuracy: %s' % knn_clf.score(X_test, y_test))"
   ]
  },
  {
   "cell_type": "code",
   "execution_count": 5,
   "metadata": {},
   "outputs": [
    {
     "name": "stdout",
     "output_type": "stream",
     "text": [
      "Stacking classifier accuracy: 0.852\n"
     ]
    }
   ],
   "source": [
    "# Train and evaluate the ensemble\n",
    "base_classifiers = [lr, knn_clf]\n",
    "stacking_clf = StackingClassifier(base_classifiers)\n",
    "stacking_clf.fit(X_train, y_train)\n",
    "print('Stacking classifier accuracy: %s' % stacking_clf.score(X_test, y_test))"
   ]
  },
  {
   "cell_type": "code",
   "execution_count": null,
   "metadata": {
    "collapsed": true
   },
   "outputs": [],
   "source": []
  }
 ],
 "metadata": {
  "kernelspec": {
   "display_name": "Python 3",
   "language": "python",
   "name": "python3"
  },
  "language_info": {
   "codemirror_mode": {
    "name": "ipython",
    "version": 3
   },
   "file_extension": ".py",
   "mimetype": "text/x-python",
   "name": "python",
   "nbconvert_exporter": "python",
   "pygments_lexer": "ipython3",
   "version": "3.6.2"
  }
 },
 "nbformat": 4,
 "nbformat_minor": 2
}
